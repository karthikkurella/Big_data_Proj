{
 "cells": [
  {
   "cell_type": "code",
   "execution_count": 8,
   "metadata": {},
   "outputs": [],
   "source": [
    "import pyspark\n",
    "from pyspark.sql import SparkSession\n",
    "spark = SparkSession.builder.appName(\"BDA_proj_Food\").getOrCreate()  "
   ]
  },
  {
   "cell_type": "code",
   "execution_count": 9,
   "metadata": {},
   "outputs": [],
   "source": [
    "df = spark.read.csv(\"FAO.csv\", header=True, inferSchema=True)"
   ]
  },
  {
   "cell_type": "code",
   "execution_count": 12,
   "metadata": {
    "scrolled": true
   },
   "outputs": [
    {
     "name": "stdout",
     "output_type": "stream",
     "text": [
      "root\n",
      " |-- Area Abbreviation: string (nullable = true)\n",
      " |-- Area Code: integer (nullable = true)\n",
      " |-- Area: string (nullable = true)\n",
      " |-- Item Code: integer (nullable = true)\n",
      " |-- Item: string (nullable = true)\n",
      " |-- Element Code: integer (nullable = true)\n",
      " |-- Element: string (nullable = true)\n",
      " |-- Unit: string (nullable = true)\n",
      " |-- latitude: double (nullable = true)\n",
      " |-- longitude: double (nullable = true)\n",
      " |-- Y1961: integer (nullable = true)\n",
      " |-- Y1962: integer (nullable = true)\n",
      " |-- Y1963: integer (nullable = true)\n",
      " |-- Y1964: integer (nullable = true)\n",
      " |-- Y1965: integer (nullable = true)\n",
      " |-- Y1966: integer (nullable = true)\n",
      " |-- Y1967: integer (nullable = true)\n",
      " |-- Y1968: integer (nullable = true)\n",
      " |-- Y1969: integer (nullable = true)\n",
      " |-- Y1970: integer (nullable = true)\n",
      " |-- Y1971: integer (nullable = true)\n",
      " |-- Y1972: integer (nullable = true)\n",
      " |-- Y1973: integer (nullable = true)\n",
      " |-- Y1974: integer (nullable = true)\n",
      " |-- Y1975: integer (nullable = true)\n",
      " |-- Y1976: integer (nullable = true)\n",
      " |-- Y1977: integer (nullable = true)\n",
      " |-- Y1978: integer (nullable = true)\n",
      " |-- Y1979: integer (nullable = true)\n",
      " |-- Y1980: integer (nullable = true)\n",
      " |-- Y1981: integer (nullable = true)\n",
      " |-- Y1982: integer (nullable = true)\n",
      " |-- Y1983: integer (nullable = true)\n",
      " |-- Y1984: integer (nullable = true)\n",
      " |-- Y1985: integer (nullable = true)\n",
      " |-- Y1986: integer (nullable = true)\n",
      " |-- Y1987: integer (nullable = true)\n",
      " |-- Y1988: integer (nullable = true)\n",
      " |-- Y1989: integer (nullable = true)\n",
      " |-- Y1990: integer (nullable = true)\n",
      " |-- Y1991: integer (nullable = true)\n",
      " |-- Y1992: integer (nullable = true)\n",
      " |-- Y1993: integer (nullable = true)\n",
      " |-- Y1994: integer (nullable = true)\n",
      " |-- Y1995: integer (nullable = true)\n",
      " |-- Y1996: integer (nullable = true)\n",
      " |-- Y1997: integer (nullable = true)\n",
      " |-- Y1998: integer (nullable = true)\n",
      " |-- Y1999: integer (nullable = true)\n",
      " |-- Y2000: integer (nullable = true)\n",
      " |-- Y2001: integer (nullable = true)\n",
      " |-- Y2002: integer (nullable = true)\n",
      " |-- Y2003: integer (nullable = true)\n",
      " |-- Y2004: integer (nullable = true)\n",
      " |-- Y2005: integer (nullable = true)\n",
      " |-- Y2006: integer (nullable = true)\n",
      " |-- Y2007: integer (nullable = true)\n",
      " |-- Y2008: integer (nullable = true)\n",
      " |-- Y2009: integer (nullable = true)\n",
      " |-- Y2010: integer (nullable = true)\n",
      " |-- Y2011: integer (nullable = true)\n",
      " |-- Y2012: integer (nullable = true)\n",
      " |-- Y2013: integer (nullable = true)\n",
      "\n"
     ]
    }
   ],
   "source": [
    "df\n",
    "#df.show()\n",
    "df.printSchema()"
   ]
  },
  {
   "cell_type": "code",
   "execution_count": 15,
   "metadata": {},
   "outputs": [
    {
     "name": "stdout",
     "output_type": "stream",
     "text": [
      "+-----------------+---------+-----------+---------+----------------------------+------------+-------+-----------+--------+---------+-----+-----+-----+-----+-----+-----+-----+-----+-----+-----+-----+-----+-----+-----+-----+-----+-----+-----+-----+-----+-----+-----+-----+-----+-----+-----+-----+-----+-----+-----+-----+-----+-----+-----+-----+-----+-----+-----+-----+-----+-----+-----+-----+-----+-----+-----+-----+-----+-----+-----+-----+-----+-----+\n",
      "|Area Abbreviation|Area Code|Area       |Item Code|Item                        |Element Code|Element|Unit       |latitude|longitude|Y1961|Y1962|Y1963|Y1964|Y1965|Y1966|Y1967|Y1968|Y1969|Y1970|Y1971|Y1972|Y1973|Y1974|Y1975|Y1976|Y1977|Y1978|Y1979|Y1980|Y1981|Y1982|Y1983|Y1984|Y1985|Y1986|Y1987|Y1988|Y1989|Y1990|Y1991|Y1992|Y1993|Y1994|Y1995|Y1996|Y1997|Y1998|Y1999|Y2000|Y2001|Y2002|Y2003|Y2004|Y2005|Y2006|Y2007|Y2008|Y2009|Y2010|Y2011|Y2012|Y2013|\n",
      "+-----------------+---------+-----------+---------+----------------------------+------------+-------+-----------+--------+---------+-----+-----+-----+-----+-----+-----+-----+-----+-----+-----+-----+-----+-----+-----+-----+-----+-----+-----+-----+-----+-----+-----+-----+-----+-----+-----+-----+-----+-----+-----+-----+-----+-----+-----+-----+-----+-----+-----+-----+-----+-----+-----+-----+-----+-----+-----+-----+-----+-----+-----+-----+-----+-----+\n",
      "|AFG              |2        |Afghanistan|2511     |Wheat and products          |5142        |Food   |1000 tonnes|33.94   |67.71    |1928 |1904 |1666 |1950 |2001 |1808 |2053 |2045 |2154 |1819 |1963 |2215 |2310 |2335 |2434 |2512 |2282 |2454 |2443 |2129 |2133 |2068 |1994 |1851 |1791 |1683 |2194 |1801 |1754 |1640 |1539 |1582 |1840 |1855 |1853 |2177 |2343 |2407 |2463 |2600 |2668 |2776 |3095 |3249 |3486 |3704 |4164 |4252 |4538 |4605 |4711 |4810 |4895 |\n",
      "|AFG              |2        |Afghanistan|2805     |Rice (Milled Equivalent)    |5142        |Food   |1000 tonnes|33.94   |67.71    |183  |183  |182  |220  |220  |195  |231  |235  |238  |213  |205  |233  |246  |246  |255  |263  |235  |254  |270  |259  |248  |217  |217  |197  |186  |200  |193  |202  |191  |199  |197  |249  |218  |260  |319  |254  |326  |347  |270  |372  |411  |448  |460  |419  |445  |546  |455  |490  |415  |442  |476  |425  |422  |\n",
      "|AFG              |2        |Afghanistan|2513     |Barley and products         |5521        |Feed   |1000 tonnes|33.94   |67.71    |76   |76   |76   |76   |76   |75   |71   |72   |73   |74   |71   |70   |72   |76   |77   |80   |60   |65   |64   |64   |60   |55   |53   |51   |48   |46   |46   |47   |46   |43   |43   |40   |50   |46   |41   |44   |50   |48   |43   |26   |29   |70   |48   |58   |236  |262  |263  |230  |379  |315  |203  |367  |360  |\n",
      "|AFG              |2        |Afghanistan|2513     |Barley and products         |5142        |Food   |1000 tonnes|33.94   |67.71    |237  |237  |237  |238  |238  |237  |225  |227  |230  |234  |223  |219  |225  |240  |244  |255  |185  |203  |198  |202  |189  |174  |167  |160  |151  |145  |145  |148  |145  |135  |132  |120  |155  |143  |125  |138  |159  |154  |141  |84   |83   |122  |144  |185  |43   |44   |48   |62   |55   |60   |72   |78   |89   |\n",
      "|AFG              |2        |Afghanistan|2514     |Maize and products          |5521        |Feed   |1000 tonnes|33.94   |67.71    |210  |210  |214  |216  |216  |216  |235  |232  |236  |200  |201  |216  |228  |231  |234  |240  |228  |234  |228  |226  |210  |199  |192  |182  |173  |170  |154  |148  |137  |144  |126  |90   |141  |150  |159  |108  |90   |99   |72   |35   |48   |89   |63   |120  |208  |233  |249  |247  |195  |178  |191  |200  |200  |\n",
      "|AFG              |2        |Afghanistan|2514     |Maize and products          |5142        |Food   |1000 tonnes|33.94   |67.71    |403  |403  |410  |415  |415  |413  |454  |448  |455  |383  |386  |416  |439  |445  |451  |463  |439  |451  |440  |437  |407  |384  |371  |353  |334  |330  |298  |287  |265  |279  |245  |170  |272  |289  |310  |209  |173  |192  |141  |66   |93   |170  |117  |231  |67   |82   |67   |69   |71   |82   |73   |77   |76   |\n",
      "|AFG              |2        |Afghanistan|2517     |Millet and products         |5142        |Food   |1000 tonnes|33.94   |67.71    |17   |18   |19   |20   |21   |22   |23   |24   |25   |26   |26   |27   |27   |28   |29   |37   |32   |33   |31   |31   |29   |27   |28   |26   |25   |23   |23   |23   |23   |24   |24   |18   |22   |20   |21   |17   |20   |21   |17   |20   |20   |18   |16   |15   |21   |11   |19   |21   |18   |14   |14   |14   |12   |\n",
      "|AFG              |2        |Afghanistan|2520     |Cereals, Other              |5142        |Food   |1000 tonnes|33.94   |67.71    |0    |0    |0    |0    |0    |0    |0    |0    |0    |0    |0    |0    |0    |0    |0    |0    |0    |0    |0    |0    |0    |0    |0    |0    |0    |0    |0    |0    |0    |0    |0    |0    |0    |0    |0    |0    |0    |0    |0    |0    |0    |0    |1    |2    |1    |1    |0    |0    |0    |0    |0    |0    |0    |\n",
      "|AFG              |2        |Afghanistan|2531     |Potatoes and products       |5142        |Food   |1000 tonnes|33.94   |67.71    |111  |97   |103  |110  |113  |117  |128  |130  |134  |125  |147  |138  |143  |160  |169  |324  |176  |225  |232  |240  |247  |248  |242  |235  |226  |217  |196  |198  |184  |205  |203  |210  |210  |211  |212  |213  |214  |214  |217  |219  |215  |217  |347  |276  |294  |294  |260  |242  |250  |192  |169  |196  |230  |\n",
      "|AFG              |2        |Afghanistan|2536     |Sugar cane                  |5521        |Feed   |1000 tonnes|33.94   |67.71    |45   |45   |45   |45   |31   |14   |19   |30   |34   |15   |0    |0    |28   |32   |20   |28   |24   |24   |34   |61   |50   |43   |38   |46   |23   |25   |3    |45   |54   |47   |29   |29   |29   |29   |29   |29   |28   |28   |28   |29   |29   |29   |51   |50   |29   |61   |65   |54   |114  |83   |83   |69   |81   |\n",
      "|AFG              |2        |Afghanistan|2537     |Sugar beet                  |5521        |Feed   |1000 tonnes|33.94   |67.71    |0    |0    |0    |0    |0    |16   |23   |31   |28   |9    |13   |13   |6    |0    |0    |10   |16   |13   |6    |15   |0    |0    |0    |0    |0    |0    |0    |0    |0    |0    |0    |0    |0    |0    |0    |0    |0    |0    |0    |0    |0    |0    |0    |0    |0    |0    |0    |0    |0    |0    |0    |0    |0    |\n",
      "|AFG              |2        |Afghanistan|2542     |Sugar (Raw Equivalent)      |5142        |Food   |1000 tonnes|33.94   |67.71    |45   |41   |43   |52   |55   |58   |62   |65   |54   |73   |63   |60   |60   |63   |65   |70   |75   |80   |90   |94   |76   |90   |109  |100  |80   |80   |80   |80   |56   |40   |41   |50   |47   |46   |50   |45   |51   |55   |60   |61   |61   |71   |92   |124  |152  |169  |192  |217  |231  |240  |240  |250  |255  |\n",
      "|AFG              |2        |Afghanistan|2543     |Sweeteners, Other           |5142        |Food   |1000 tonnes|33.94   |67.71    |0    |0    |0    |0    |0    |0    |0    |0    |0    |0    |0    |0    |0    |0    |0    |0    |0    |0    |0    |0    |0    |0    |0    |0    |0    |0    |0    |0    |0    |0    |0    |0    |0    |0    |0    |0    |0    |0    |0    |0    |0    |1    |6    |9    |15   |12   |6    |11   |2    |9    |21   |24   |16   |\n",
      "|AFG              |2        |Afghanistan|2745     |Honey                       |5142        |Food   |1000 tonnes|33.94   |67.71    |2    |2    |2    |2    |3    |3    |3    |3    |3    |3    |3    |3    |3    |3    |3    |3    |3    |4    |4    |3    |3    |3    |3    |3    |3    |3    |3    |3    |3    |3    |3    |4    |4    |4    |4    |4    |4    |4    |4    |5    |5    |4    |5    |3    |3    |3    |3    |3    |3    |3    |2    |2    |2    |\n",
      "|AFG              |2        |Afghanistan|2549     |Pulses, Other and products  |5521        |Feed   |1000 tonnes|33.94   |67.71    |1    |1    |1    |1    |1    |1    |2    |1    |1    |1    |1    |1    |2    |2    |2    |2    |2    |2    |2    |2    |2    |2    |2    |2    |2    |2    |2    |2    |1    |2    |2    |2    |2    |2    |3    |3    |3    |2    |2    |3    |3    |3    |3    |3    |2    |3    |3    |3    |5    |4    |5    |4    |4    |\n",
      "|AFG              |2        |Afghanistan|2549     |Pulses, Other and products  |5142        |Food   |1000 tonnes|33.94   |67.71    |15   |16   |17   |18   |18   |20   |26   |21   |22   |23   |24   |24   |26   |27   |27   |29   |30   |31   |31   |33   |26   |26   |25   |24   |23   |24   |24   |27   |24   |23   |27   |29   |36   |42   |31   |31   |28   |33   |25   |22   |39   |23   |23   |17   |35   |37   |40   |54   |80   |66   |81   |63   |74   |\n",
      "|AFG              |2        |Afghanistan|2551     |Nuts and products           |5142        |Food   |1000 tonnes|33.94   |67.71    |2    |3    |1    |1    |2    |2    |1    |1    |0    |3    |1    |5    |5    |6    |4    |7    |4    |4    |7    |20   |17   |21   |19   |12   |13   |15   |11   |7    |11   |13   |14   |17   |16   |16   |16   |16   |15   |12   |17   |13   |12   |13   |10   |11   |13   |24   |34   |42   |28   |66   |71   |70   |44   |\n",
      "|AFG              |2        |Afghanistan|2560     |Coconuts - Incl Copra       |5142        |Food   |1000 tonnes|33.94   |67.71    |0    |0    |0    |0    |0    |0    |0    |0    |0    |0    |0    |0    |0    |0    |0    |0    |0    |0    |0    |0    |0    |0    |0    |0    |0    |0    |0    |0    |0    |0    |1    |0    |0    |0    |0    |0    |1    |0    |0    |0    |0    |0    |0    |0    |0    |0    |0    |0    |0    |0    |0    |0    |0    |\n",
      "|AFG              |2        |Afghanistan|2561     |Sesame seed                 |5142        |Food   |1000 tonnes|33.94   |67.71    |10   |10   |10   |10   |10   |11   |11   |11   |11   |11   |8    |11   |13   |12   |12   |12   |11   |11   |13   |13   |13   |14   |14   |14   |14   |14   |13   |13   |13   |12   |12   |14   |12   |13   |12   |11   |11   |11   |12   |12   |12   |12   |15   |16   |16   |13   |16   |16   |16   |19   |17   |16   |16   |\n",
      "|AFG              |2        |Afghanistan|2563     |Olives (including preserved)|5142        |Food   |1000 tonnes|33.94   |67.71    |0    |0    |0    |0    |0    |0    |0    |0    |0    |0    |0    |0    |0    |0    |0    |0    |0    |0    |0    |0    |0    |0    |0    |0    |0    |1    |0    |0    |0    |0    |0    |0    |0    |0    |0    |0    |0    |0    |0    |0    |0    |0    |1    |1    |1    |0    |0    |2    |3    |2    |2    |2    |2    |\n",
      "+-----------------+---------+-----------+---------+----------------------------+------------+-------+-----------+--------+---------+-----+-----+-----+-----+-----+-----+-----+-----+-----+-----+-----+-----+-----+-----+-----+-----+-----+-----+-----+-----+-----+-----+-----+-----+-----+-----+-----+-----+-----+-----+-----+-----+-----+-----+-----+-----+-----+-----+-----+-----+-----+-----+-----+-----+-----+-----+-----+-----+-----+-----+-----+-----+-----+\n",
      "only showing top 20 rows\n",
      "\n"
     ]
    }
   ],
   "source": [
    "df.filter(df.Area==\"Afghanistan\").show(truncate=False)"
   ]
  },
  {
   "cell_type": "code",
   "execution_count": 17,
   "metadata": {},
   "outputs": [
    {
     "name": "stdout",
     "output_type": "stream",
     "text": [
      "+--------------------+-----+\n",
      "|                Area|count|\n",
      "+--------------------+-----+\n",
      "|             Lesotho|   75|\n",
      "|         Afghanistan|   83|\n",
      "|         Timor-Leste|   86|\n",
      "|        Turkmenistan|   90|\n",
      "|       Guinea-Bissau|   91|\n",
      "|Sao Tome and Prin...|   91|\n",
      "|            Kiribati|   94|\n",
      "|             Vanuatu|   96|\n",
      "|Democratic People...|   97|\n",
      "|             Liberia|   99|\n",
      "|Saint Kitts and N...|   99|\n",
      "|     Solomon Islands|  100|\n",
      "|Lao People's Demo...|  102|\n",
      "|          Tajikistan|  102|\n",
      "|             Bermuda|  103|\n",
      "|                Chad|  103|\n",
      "|               Sudan|  104|\n",
      "|            Maldives|  104|\n",
      "|          Cabo Verde|  106|\n",
      "|            Djibouti|  107|\n",
      "+--------------------+-----+\n",
      "only showing top 20 rows\n",
      "\n"
     ]
    }
   ],
   "source": [
    "df.groupBy(\"Area\").count().sort(\"count\",ascending=True).show()\t"
   ]
  },
  {
   "cell_type": "code",
   "execution_count": 48,
   "metadata": {},
   "outputs": [
    {
     "name": "stdout",
     "output_type": "stream",
     "text": [
      "+--------------------+--------------------+----------+\n",
      "|                Area|                Item|sum(Y1961)|\n",
      "+--------------------+--------------------+----------+\n",
      "|             Albania|       Citrus, Other|         0|\n",
      "|             Albania|         Meat, Other|         0|\n",
      "|              Angola|              Onions|         2|\n",
      "|              Angola|       Spices, Other|         0|\n",
      "| Antigua and Barbuda| Alcoholic Beverages|         0|\n",
      "|           Australia|               Cream|         0|\n",
      "|          Bangladesh|     Fish, Liver Oil|         0|\n",
      "|             Belarus|Pulses, Other and...|      null|\n",
      "|               Benin|     Freshwater Fish|        15|\n",
      "|        Burkina Faso|     Molluscs, Other|         0|\n",
      "|              Canada|Cocoa Beans and p...|        23|\n",
      "|Central African R...|Aquatic Products,...|         0|\n",
      "|               Chile|              Offals|        26|\n",
      "|China, Hong Kong SAR| Barley and products|         2|\n",
      "|China, Taiwan Pro...|Cassava and products|       158|\n",
      "|                Cuba|             Pigmeat|        27|\n",
      "|             Denmark|  Fats, Animals, Raw|        39|\n",
      "|            Dominica| Coffee and products|         0|\n",
      "|  Dominican Republic|Milk - Excluding ...|       346|\n",
      "|         El Salvador|        Roots, Other|         0|\n",
      "|            Ethiopia|        Poultry Meat|      null|\n",
      "|              France|         Crustaceans|        34|\n",
      "|              Gambia|        Butter, Ghee|         0|\n",
      "|             Germany|      Fish, Body Oil|        66|\n",
      "|               Ghana|Sorghum and products|        65|\n",
      "|           Guatemala|      Cottonseed Oil|         4|\n",
      "|              Guinea|   Sweeteners, Other|         0|\n",
      "|              Guinea|       Demersal Fish|         0|\n",
      "|              Guinea|        Pelagic Fish|         2|\n",
      "|           Indonesia|        Ricebran Oil|         0|\n",
      "|              Israel|         Sesame seed|         1|\n",
      "|               Italy|Grapefruit and pr...|         0|\n",
      "|             Jamaica|   Vegetables, Other|        26|\n",
      "|              Kuwait|          Sugar cane|         0|\n",
      "|          Kyrgyzstan| Oranges, Mandarines|      null|\n",
      "|             Lebanon| Apples and products|        36|\n",
      "|             Lesotho|       Fish, Seafood|         0|\n",
      "|           Lithuania|              Offals|      null|\n",
      "|          Madagascar| Oranges, Mandarines|        14|\n",
      "|          Madagascar|Tea (including mate)|         0|\n",
      "|            Maldives|        Butter, Ghee|         0|\n",
      "|               Malta|            Treenuts|         0|\n",
      "|            Mongolia|           Soyabeans|         0|\n",
      "|            Mongolia|      Maize Germ Oil|         0|\n",
      "|          Montenegro|      Palmkernel Oil|      null|\n",
      "|          Montenegro|         Meat, Other|      null|\n",
      "|             Morocco|Cereals - Excludi...|      2308|\n",
      "|             Namibia|       Citrus, Other|         0|\n",
      "|             Namibia|  Sugar & Sweeteners|        17|\n",
      "|               Nepal|            Palm Oil|         0|\n",
      "+--------------------+--------------------+----------+\n",
      "only showing top 50 rows\n",
      "\n"
     ]
    }
   ],
   "source": [
    "x=df.groupBy(\"Area\",\"Item\").sum(\"Y1961\").show(50)"
   ]
  },
  {
   "cell_type": "code",
   "execution_count": 50,
   "metadata": {},
   "outputs": [
    {
     "name": "stdout",
     "output_type": "stream",
     "text": [
      "+--------------------+-----+\n",
      "|                Item|count|\n",
      "+--------------------+-----+\n",
      "|       Spices, Other|  172|\n",
      "|       Miscellaneous|  161|\n",
      "|       Groundnut Oil|  158|\n",
      "|           Olive Oil|  174|\n",
      "|Pineapples and pr...|  168|\n",
      "|Aquatic Animals, ...|  135|\n",
      "| Oilcrops Oil, Other|  171|\n",
      "|         Crustaceans|  189|\n",
      "|Pulses, Other and...|  255|\n",
      "|   Sunflowerseed Oil|  162|\n",
      "|Olives (including...|  158|\n",
      "|      Cereals, Other|  308|\n",
      "|Coconuts - Incl C...|  175|\n",
      "|Cassava and products|  225|\n",
      "|    Rye and products|  223|\n",
      "|                Oats|  279|\n",
      "|      Offals, Edible|  197|\n",
      "|  Marine Fish, Other|  219|\n",
      "| Millet and products|  188|\n",
      "| Alcoholic Beverages|  173|\n",
      "+--------------------+-----+\n",
      "only showing top 20 rows\n",
      "\n"
     ]
    }
   ],
   "source": [
    "df.groupBy(\"Item\").count().show()"
   ]
  },
  {
   "cell_type": "code",
   "execution_count": 58,
   "metadata": {},
   "outputs": [
    {
     "name": "stdout",
     "output_type": "stream",
     "text": [
      "+-------+-----------+\n",
      "|summary|       Area|\n",
      "+-------+-----------+\n",
      "|  count|      21477|\n",
      "|   mean|       null|\n",
      "| stddev|       null|\n",
      "|    min|Afghanistan|\n",
      "|    max|   Zimbabwe|\n",
      "+-------+-----------+\n",
      "\n"
     ]
    }
   ],
   "source": [
    "df.describe('Area').show()"
   ]
  }
 ],
 "metadata": {
  "kernelspec": {
   "display_name": "Python 3.7.4 64-bit",
   "language": "python",
   "name": "python37464bit2e620248ac1f4105873889b567e90a81"
  },
  "language_info": {
   "codemirror_mode": {
    "name": "ipython",
    "version": 3
   },
   "file_extension": ".py",
   "mimetype": "text/x-python",
   "name": "python",
   "nbconvert_exporter": "python",
   "pygments_lexer": "ipython3",
   "version": "3.7.4"
  }
 },
 "nbformat": 4,
 "nbformat_minor": 4
}
